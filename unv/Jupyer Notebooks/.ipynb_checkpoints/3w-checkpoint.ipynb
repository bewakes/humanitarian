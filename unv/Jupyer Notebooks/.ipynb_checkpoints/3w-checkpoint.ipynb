{
 "cells": [
  {
   "cell_type": "code",
   "execution_count": 1,
   "metadata": {
    "collapsed": true
   },
   "outputs": [],
   "source": [
    "from pandas import DataFrame, read_csv\n",
    "\n",
    "import matplotlib.pyplot as plt\n",
    "import pandas as pd\n",
    "import sys\n",
    "import matplotlib \n",
    "import numpy as np\n",
    "import scipy.stats\n",
    "from pivottablejs import pivot_ui\n",
    "\n",
    "# Enable inline plotting\n",
    "%matplotlib inline"
   ]
  },
  {
   "cell_type": "code",
   "execution_count": 2,
   "metadata": {
    "collapsed": false
   },
   "outputs": [
    {
     "ename": "FileNotFoundError",
     "evalue": "[Errno 2] No such file or directory: '/Users/ewanog/Dropbox/Work/UNV/Analysis/32/amp.xls'",
     "output_type": "error",
     "traceback": [
      "\u001b[0;31m---------------------------------------------------------------------------\u001b[0m",
      "\u001b[0;31mFileNotFoundError\u001b[0m                         Traceback (most recent call last)",
      "\u001b[0;32m<ipython-input-2-9a1a99210a0b>\u001b[0m in \u001b[0;36m<module>\u001b[0;34m()\u001b[0m\n\u001b[0;32m----> 1\u001b[0;31m \u001b[0mdf\u001b[0m \u001b[0;34m=\u001b[0m \u001b[0mpd\u001b[0m\u001b[0;34m.\u001b[0m\u001b[0mread_excel\u001b[0m\u001b[0;34m(\u001b[0m\u001b[0;34m'/Users/ewanog/Dropbox/Work/UNV/Analysis/32/amp.xls'\u001b[0m\u001b[0;34m,\u001b[0m \u001b[0msheetname\u001b[0m\u001b[0;34m=\u001b[0m\u001b[0;34m'data'\u001b[0m\u001b[0;34m,\u001b[0m \u001b[0mheader\u001b[0m \u001b[0;34m=\u001b[0m \u001b[0;36m0\u001b[0m\u001b[0;34m,\u001b[0m \u001b[0mkeep_default_na\u001b[0m\u001b[0;34m=\u001b[0m\u001b[0;32mFalse\u001b[0m\u001b[0;34m)\u001b[0m\u001b[0;34m\u001b[0m\u001b[0m\n\u001b[0m",
      "\u001b[0;32m/Users/ewanog/code/anaconda3/lib/python3.5/site-packages/pandas/io/excel.py\u001b[0m in \u001b[0;36mread_excel\u001b[0;34m(io, sheetname, header, skiprows, skip_footer, index_col, names, parse_cols, parse_dates, date_parser, na_values, thousands, convert_float, has_index_names, converters, engine, squeeze, **kwds)\u001b[0m\n\u001b[1;32m    168\u001b[0m     \"\"\"\n\u001b[1;32m    169\u001b[0m     \u001b[0;32mif\u001b[0m \u001b[0;32mnot\u001b[0m \u001b[0misinstance\u001b[0m\u001b[0;34m(\u001b[0m\u001b[0mio\u001b[0m\u001b[0;34m,\u001b[0m \u001b[0mExcelFile\u001b[0m\u001b[0;34m)\u001b[0m\u001b[0;34m:\u001b[0m\u001b[0;34m\u001b[0m\u001b[0m\n\u001b[0;32m--> 170\u001b[0;31m         \u001b[0mio\u001b[0m \u001b[0;34m=\u001b[0m \u001b[0mExcelFile\u001b[0m\u001b[0;34m(\u001b[0m\u001b[0mio\u001b[0m\u001b[0;34m,\u001b[0m \u001b[0mengine\u001b[0m\u001b[0;34m=\u001b[0m\u001b[0mengine\u001b[0m\u001b[0;34m)\u001b[0m\u001b[0;34m\u001b[0m\u001b[0m\n\u001b[0m\u001b[1;32m    171\u001b[0m \u001b[0;34m\u001b[0m\u001b[0m\n\u001b[1;32m    172\u001b[0m     return io._parse_excel(\n",
      "\u001b[0;32m/Users/ewanog/code/anaconda3/lib/python3.5/site-packages/pandas/io/excel.py\u001b[0m in \u001b[0;36m__init__\u001b[0;34m(self, io, **kwds)\u001b[0m\n\u001b[1;32m    225\u001b[0m             \u001b[0mself\u001b[0m\u001b[0;34m.\u001b[0m\u001b[0mbook\u001b[0m \u001b[0;34m=\u001b[0m \u001b[0mxlrd\u001b[0m\u001b[0;34m.\u001b[0m\u001b[0mopen_workbook\u001b[0m\u001b[0;34m(\u001b[0m\u001b[0mfile_contents\u001b[0m\u001b[0;34m=\u001b[0m\u001b[0mdata\u001b[0m\u001b[0;34m)\u001b[0m\u001b[0;34m\u001b[0m\u001b[0m\n\u001b[1;32m    226\u001b[0m         \u001b[0;32melif\u001b[0m \u001b[0misinstance\u001b[0m\u001b[0;34m(\u001b[0m\u001b[0mio\u001b[0m\u001b[0;34m,\u001b[0m \u001b[0mcompat\u001b[0m\u001b[0;34m.\u001b[0m\u001b[0mstring_types\u001b[0m\u001b[0;34m)\u001b[0m\u001b[0;34m:\u001b[0m\u001b[0;34m\u001b[0m\u001b[0m\n\u001b[0;32m--> 227\u001b[0;31m             \u001b[0mself\u001b[0m\u001b[0;34m.\u001b[0m\u001b[0mbook\u001b[0m \u001b[0;34m=\u001b[0m \u001b[0mxlrd\u001b[0m\u001b[0;34m.\u001b[0m\u001b[0mopen_workbook\u001b[0m\u001b[0;34m(\u001b[0m\u001b[0mio\u001b[0m\u001b[0;34m)\u001b[0m\u001b[0;34m\u001b[0m\u001b[0m\n\u001b[0m\u001b[1;32m    228\u001b[0m         \u001b[0;32melse\u001b[0m\u001b[0;34m:\u001b[0m\u001b[0;34m\u001b[0m\u001b[0m\n\u001b[1;32m    229\u001b[0m             raise ValueError('Must explicitly set engine if not passing in'\n",
      "\u001b[0;32m/Users/ewanog/code/anaconda3/lib/python3.5/site-packages/xlrd/__init__.py\u001b[0m in \u001b[0;36mopen_workbook\u001b[0;34m(filename, logfile, verbosity, use_mmap, file_contents, encoding_override, formatting_info, on_demand, ragged_rows)\u001b[0m\n\u001b[1;32m    393\u001b[0m         \u001b[0mpeek\u001b[0m \u001b[0;34m=\u001b[0m \u001b[0mfile_contents\u001b[0m\u001b[0;34m[\u001b[0m\u001b[0;34m:\u001b[0m\u001b[0mpeeksz\u001b[0m\u001b[0;34m]\u001b[0m\u001b[0;34m\u001b[0m\u001b[0m\n\u001b[1;32m    394\u001b[0m     \u001b[0;32melse\u001b[0m\u001b[0;34m:\u001b[0m\u001b[0;34m\u001b[0m\u001b[0m\n\u001b[0;32m--> 395\u001b[0;31m         \u001b[0;32mwith\u001b[0m \u001b[0mopen\u001b[0m\u001b[0;34m(\u001b[0m\u001b[0mfilename\u001b[0m\u001b[0;34m,\u001b[0m \u001b[0;34m\"rb\"\u001b[0m\u001b[0;34m)\u001b[0m \u001b[0;32mas\u001b[0m \u001b[0mf\u001b[0m\u001b[0;34m:\u001b[0m\u001b[0;34m\u001b[0m\u001b[0m\n\u001b[0m\u001b[1;32m    396\u001b[0m             \u001b[0mpeek\u001b[0m \u001b[0;34m=\u001b[0m \u001b[0mf\u001b[0m\u001b[0;34m.\u001b[0m\u001b[0mread\u001b[0m\u001b[0;34m(\u001b[0m\u001b[0mpeeksz\u001b[0m\u001b[0;34m)\u001b[0m\u001b[0;34m\u001b[0m\u001b[0m\n\u001b[1;32m    397\u001b[0m     \u001b[0;32mif\u001b[0m \u001b[0mpeek\u001b[0m \u001b[0;34m==\u001b[0m \u001b[0;34mb\"PK\\x03\\x04\"\u001b[0m\u001b[0;34m:\u001b[0m \u001b[0;31m# a ZIP file\u001b[0m\u001b[0;34m\u001b[0m\u001b[0m\n",
      "\u001b[0;31mFileNotFoundError\u001b[0m: [Errno 2] No such file or directory: '/Users/ewanog/Dropbox/Work/UNV/Analysis/32/amp.xls'"
     ]
    }
   ],
   "source": [
    "df = pd.read_excel('/Users/ewanog/Dropbox/Work/UNV/Analysis/32/amp.xls', sheetname='data', header = 0, keep_default_na=False)"
   ]
  },
  {
   "cell_type": "code",
   "execution_count": null,
   "metadata": {
    "collapsed": false,
    "scrolled": true
   },
   "outputs": [],
   "source": [
    "#make all empty distrct rows equal last one then remove row with summary district info\n",
    "\n",
    "cd = ''\n",
    "\n",
    "for r in df.iterrows():\n",
    "    if r[1]['District'] != '':\n",
    "        cd = r[1]['District'].split('(')[0].strip(' ')\n",
    "        df = df.drop(r[0])\n",
    "    else:\n",
    "        df.loc[r[0], 'District'] = cd\n",
    "\n",
    "\n",
    "# for r in df.iterrows():\n",
    "#     if r[1]['District'] != '':\n",
    "#         c.append()\n",
    "    "
   ]
  },
  {
   "cell_type": "code",
   "execution_count": null,
   "metadata": {
    "collapsed": false
   },
   "outputs": [],
   "source": [
    "len(df['AMP ID'].unique()) #505\n",
    "len(df['AMP ID']) #3004\n",
    "\n",
    "r = df[df['AMP ID'] == '872381431698']['Actual Expenditures']\n",
    "\n",
    "r.groupby(r).count()"
   ]
  },
  {
   "cell_type": "code",
   "execution_count": null,
   "metadata": {
    "collapsed": false,
    "scrolled": false
   },
   "outputs": [],
   "source": [
    "import itertools\n",
    "from numpy import array\n",
    "import re\n",
    "\n",
    "set(list(itertools.chain.from_iterable([v.replace('\\n','').split(' - ') for v in df['Primary Sector'].unique()])))\n",
    "\n",
    "infra = ['ALTERNATE ENERGY', 'COMMUNICATIONS', 'DRINKING WATER', 'ELECTRICITY', 'ENERGY', \n",
    "'HOUSING', 'INDUSTRY', 'IRRIGATION', 'LOCAL DEVELOPMENT', \n",
    "'PEACE AND RECONSTRUCTION', 'RENEWABLE ENERGY', 'SUPPLY', 'URBAN DEVELOPMENT']\n",
    "\n",
    "proj = [\"Rural Energy Development Programme:REDP\",\n",
    "\"PCR 6, IR 3 - Cluster leadership and equitable access and use of emergency WASH services in line with the CCCs & Sphere standards.\",\n",
    "\"PCR 6, IR 2: HHs and institutions especially in MDAG VDCs in DACAW, diarrhoea prone & low sanitation coverage districts increasingly utilise improved sanitation, hygiene and water supply facilities.\",\n",
    "\"Renewable Energy for Rural Livelihoods (RERL)\",\n",
    "\"Renewable Energy for Rural Livelihood(RERL)\",\n",
    "\"Capacity Building for Strategic Planning for Municipal Solid Waste Management including understanding of Climate Change and Clean Development Mechanism\",\n",
    "\"Improved Water Mills (IWM) Rural Electrification\",\n",
    "\"Strengthening Water, Sanitation and Hygiene Treasuring Health (SWASHTHA)- II- in Tikapur and Guleriaya, Nepal.\",\n",
    "\"Sustainable Urban Environment\",\n",
    "\"IR 5.2: WASH in Earthquake Emergency\",\n",
    "\"Strengthening Water, Air, Sanitation and Hygiene Treasuring Health (SWASHTHA) - I\",\n",
    "\"Nepal Holistic Development Program(NHDP)\",\n",
    "\"Nepal Holistic Development Program\",\n",
    "\"Water Guard - Safe Water System (SWS)\",\n",
    "\"Improved Municipal Solid Waste Management through Institutional Capacity Building of SWMRMC of Nepal - II\",\n",
    "\"Hydram-III\",\n",
    "\"National Recovery Project\",\n",
    "\"Disaster Risk Reduction at the National Level in Nepal - DRRNLN\",\n",
    "\"NPL Pooled Seed Fund - 2014 Floods/Landslide Response\",\n",
    "\"Climate and Carbon Funding in Renewable Energy Sector in Nepal\",\n",
    "\"I.R. 1.3: WASH Plan and Finance Strategy\",\n",
    "\"I.R.2.3 District Water and Sanitation System\",\n",
    "\"NPL SHO Emergency & Reconstruction Aid for Nepal SoF:52800150\",\n",
    "\"Community Water Supply Sanitation and Hygiene Support Project\",\n",
    "\"Sustainable Sanitataion and Hygiene for ALL- Civil Society Wash Fund- Funded by Australian Government\",\n",
    "\"Urban Sustainable Sanitation and Hygiene for All (USSH4A)\",\n",
    "\"(Improving) Functionality of Water Supply Services in Nepal\",\n",
    "\"Building Back Better for Inclusive and Resilient Recovery in Nepal after Earthquake 2015\",\n",
    "\"WASH Lifesaving Support Project- Preventing deaths of vulnerable population (children and women) through lifesaving WASH promotion and response (CERF Nepal Project)\",\n",
    "\"Community Health/ Education, Sanitation & Livelihood Development in Nepal\",\n",
    "\"Isolated Water Supply System for Urban Poor Communities in Kathmandu Valley\",\n",
    "\"Integrated Rural Development Project\",\n",
    "\"Integrating Water and Sanitation Services to Urban Poor Communities in two Municipalities of Nepal\",\n",
    "\"Renewable Energy for Rural Livelihoods (RERL) Phase II (Award ID 00076958 Project ID 00088046)\",\n",
    "\"Integrated Shelter Assistance for 225 Landless Households Affected by Koshi Flood\"]\n",
    "\n",
    "# len(df[df['Primary Sector'].str.contains('|'.join(infra))]['Project Title'].unique())\n",
    "\n",
    "# pd.DataFrame(df[df['Primary Sector'].str.contains('|'.join(infra))].groupby('Donor Agency').size().sort_values(ascending = False))\n",
    "\n",
    "trim = df[df['Project Title'].str.contains('|'.join([re.escape(v) for v in proj]))]\n",
    "                 \n",
    "# trim[trim['AMP ID'] == '8723889738']['Actual Expenditures'].unique().sum()\n",
    "\n",
    "# trim.groupby(by = )"
   ]
  },
  {
   "cell_type": "code",
   "execution_count": null,
   "metadata": {
    "collapsed": false,
    "scrolled": false
   },
   "outputs": [],
   "source": [
    "#sum of all projects\n",
    "#14,717,442.476\n",
    "m = trim.groupby(by=('AMP ID', 'Actual Expenditures'), as_index=False).all().index\n",
    "sum(m.levels[1])"
   ]
  }
 ],
 "metadata": {
  "anaconda-cloud": {},
  "kernelspec": {
   "display_name": "Python [conda root]",
   "language": "python",
   "name": "conda-root-py"
  },
  "language_info": {
   "codemirror_mode": {
    "name": "ipython",
    "version": 3
   },
   "file_extension": ".py",
   "mimetype": "text/x-python",
   "name": "python",
   "nbconvert_exporter": "python",
   "pygments_lexer": "ipython3",
   "version": "3.5.2"
  }
 },
 "nbformat": 4,
 "nbformat_minor": 1
}
