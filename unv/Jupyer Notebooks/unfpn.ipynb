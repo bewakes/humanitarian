{
 "cells": [
  {
   "cell_type": "code",
   "execution_count": 1,
   "metadata": {
    "collapsed": true
   },
   "outputs": [],
   "source": [
    "from pandas import DataFrame, read_csv\n",
    "\n",
    "import matplotlib.pyplot as plt\n",
    "import pandas as pd\n",
    "import sys\n",
    "import matplotlib \n",
    "import numpy as np\n",
    "import scipy.stats\n",
    "from pivottablejs import pivot_ui\n",
    "from scipy.stats import chi2_contingency\n",
    "\n",
    "# Enable inline plotting\n",
    "%matplotlib inline\n"
   ]
  },
  {
   "cell_type": "code",
   "execution_count": 2,
   "metadata": {
    "collapsed": true
   },
   "outputs": [],
   "source": [
    "#goal: look at decision making, knowledge of UN, peace building contributions\n",
    "#disagg by age, gender, location and caste"
   ]
  },
  {
   "cell_type": "code",
   "execution_count": 18,
   "metadata": {
    "collapsed": false,
    "scrolled": true
   },
   "outputs": [],
   "source": [
    "s./Users/ewanog/Dropbox/Work/UNV/Analysis/Peace Piece/survey.xlsx', sheetname='raw', header = 0, keep_default_na=False)"
   ]
  },
  {
   "cell_type": "code",
   "execution_count": 4,
   "metadata": {
    "collapsed": false,
    "scrolled": true
   },
   "outputs": [
    {
     "data": {
      "text/plain": [
       "                                 1336\n",
       "Muslim                             28\n",
       "Christian                           2\n",
       "                                    2\n",
       "Thakuri                             2\n",
       "Mardwari                            1\n",
       "Mandal                              1\n",
       "Giri                                1\n",
       "Janajati                            1\n",
       "Oil selling or business group       1\n",
       "Podar                               1\n",
       "Yadav                               1\n",
       "Name: 7b. Others: , dtype: int64"
      ]
     },
     "execution_count": 4,
     "metadata": {},
     "output_type": "execute_result"
    }
   ],
   "source": [
    "df['7b. Others: '].value_counts()"
   ]
  },
  {
   "cell_type": "code",
   "execution_count": 19,
   "metadata": {
    "collapsed": false,
    "scrolled": true
   },
   "outputs": [],
   "source": [
    "#clean\n",
    "\n",
    "# df = df.replace('', np.nan, regex=True)\n",
    "\n",
    "#Rename columns\n",
    "df = df.rename(columns = {'6.AGE' : 'age', \"4. Gender\" : 'gender', '2. Urban or rural' : 'location',\n",
    "                          '7B. Ethnicity/indigenous group - Categorize' :  'group'})\n",
    "    \n",
    "#Age\n",
    "df['age'] = pd.to_numeric(df['age'])\n",
    "\n",
    "# v = df['6.AGE']\n",
    "# print(len([i for i in v.values if i in [18,19,20]]))\n",
    "# print(len([i for i in v.values if i in [21,22,23,24]]))\n",
    "# print(len([i for i in v.values if i in [25,26,27,28,29,30]]))\n",
    "\n",
    "def mb(x):\n",
    "    if x in [18,19,20]:\n",
    "        return '18-21'\n",
    "    elif x in [21,22,23,24]:\n",
    "        return '21-24' \n",
    "    elif x in [25,26,27,28,29,30]:\n",
    "        return '25-30'\n",
    "    else:\n",
    "        return None\n",
    "\n",
    "df['age'] = df['age'].apply(lambda x: mb(x))"
   ]
  },
  {
   "cell_type": "code",
   "execution_count": 20,
   "metadata": {
    "collapsed": false
   },
   "outputs": [],
   "source": [
    "#figure out question groups\n",
    "\n",
    "pd.DataFrame(df.columns).to_clipboard(excel=True, sep=';')\n",
    "\n",
    "qdiv = [(56,\"dec\"),\n",
    "(58,\"dec\"),\n",
    "(59,\"decresp\"),\n",
    "(78,\"dec\"),\n",
    "(79,\"decresp\"),\n",
    "(94,\"dec\"),\n",
    "(95,\"dec\"),\n",
    "(96,\"decresp\"),\n",
    "(102,\"decresp\"),\n",
    "(108,\"dec\"),\n",
    "(112,\"decresp\"),\n",
    "(121,\"dec\"),\n",
    "(122,\"dec\"),\n",
    "(123,\"dec\"),\n",
    "(124,\"dec\"),\n",
    "(127,\"decresp\"),\n",
    "(134,\"dec\"),\n",
    "(138,\"pc\"),\n",
    "(163,\"dec\"),\n",
    "(171,\"pc\"),\n",
    "(185,\"un\")]\n",
    "\n",
    "qs = {}\n",
    "\n",
    "qs['dec'] = [v[0] for v in qdiv if v[1] == 'dec']\n",
    "qs['decresp'] = [v[0] for v in qdiv if v[1] == 'decresp']\n",
    "qs['pc'] = [v[0] for v in qdiv if v[1] == 'pc']\n",
    "qs['un'] = [v[0] for v in qdiv if v[1] == 'un']\n",
    "\n",
    "agg = ['age', 'gender', 'location']"
   ]
  },
  {
   "cell_type": "raw",
   "metadata": {},
   "source": [
    "#play\n",
    "\n",
    "# df['6.AGE'].hist()\n",
    "# plt.hist(df['6.AGE'], bins = 'auto')\n",
    "\n",
    "df.groupby('6.AGE').groups\n",
    "\n",
    "df['6.AGE'].value_counts()\n",
    "\n",
    "# plt.show()"
   ]
  },
  {
   "cell_type": "code",
   "execution_count": 21,
   "metadata": {
    "collapsed": false,
    "scrolled": false
   },
   "outputs": [
    {
     "name": "stdout",
     "output_type": "stream",
     "text": [
      "[False, True, True, False, True, False, True, True, False, True, False, False, False, False, False, True, True, False]\n",
      "[False, False, False, False, True, True, True, False, False, False, False, True, False, False, False, False, True, False]\n",
      "[True, True, False, False, True, False, True, True, True, True, False, True, True, True, False, False, False, False]\n",
      "18.If no, why? \n",
      "21. If yes, what kind of decision making discussion do you lead or participate in?\n",
      "26.If yes, why?\n",
      "27.If no, why?\n",
      "29. If yes, what kind of decisions do you make at community and/or national level?\n",
      "31. If no, why?\n",
      "16.Who makes the important decisions at your home? \n",
      "17.Do you participate in decision making at your home?\n",
      "20.Do you think you should have a role in making decisions in your family? \n",
      "24. Do you make decisions in your group/club/organization/committee?\n",
      "25. Do you want to get involved in decision-making process in your group/club? \n",
      "28.Do you participate in decision making at the community level and/or national level?\n",
      "30. Criticism from other members  \n",
      "30. Non-cooperation from other members\n",
      "30.Not enough time allocation from other member\n",
      "30.Lack of confidence \n",
      "32. Do you think you should have a role in making decisions at community and or national level? \n",
      "38.Should young people be involved in leadership positions? \n"
     ]
    }
   ],
   "source": [
    "#decision\n",
    "#agg, qs\n",
    "\n",
    "qs['dec']\n",
    "\n",
    "#30s are a continuation of: 30.What are the top two challenges you face while making decisions?\n",
    "\n",
    "\n",
    "l = {}\n",
    "for a in agg:\n",
    "    t = []\n",
    "    for p in qs['decresp'] + qs['dec']:\n",
    "        t.append(chi2_contingency(pd.crosstab(df[a], df[df.columns[p]]))[1] < 0.05)\n",
    "    l[a] = t\n",
    "        \n",
    "for k in l.items():\n",
    "    print(k[1])\n",
    "    \n",
    "for k in qs['decresp'] + qs['dec']:\n",
    "    print(df.columns[k])\n"
   ]
  },
  {
   "cell_type": "code",
   "execution_count": 9,
   "metadata": {
    "collapsed": false
   },
   "outputs": [
    {
     "name": "stdout",
     "output_type": "stream",
     "text": [
      "[True, False]\n",
      "[True, False]\n",
      "[False, False]\n",
      "33.Are you involved in any activities for promoting peace & development in Nepal?\n",
      "40. Who do you think are the key actors of peace and sustainable development in Nepal\n"
     ]
    }
   ],
   "source": [
    "#peace\n",
    "qs['pc']\n",
    "\n",
    "for a in agg:\n",
    "    t = []\n",
    "    for p in qs['pc']:\n",
    "        t.append(chi2_contingency(pd.crosstab(df[a], df[df.columns[p]]))[1] < 0.05)\n",
    "    l[a] = t\n",
    "        \n",
    "for k in l.items():\n",
    "    print(k[1])\n",
    "    \n",
    "for k in qs['pc']:\n",
    "    print(df.columns[k])"
   ]
  },
  {
   "cell_type": "code",
   "execution_count": 10,
   "metadata": {
    "collapsed": false
   },
   "outputs": [
    {
     "name": "stdout",
     "output_type": "stream",
     "text": [
      "[True]\n",
      "[True]\n",
      "[False]\n",
      "41. What can the UN do to promote/increase youth participation in the Peace and Sustainable Development of Nepal?\n"
     ]
    }
   ],
   "source": [
    "#UN\n",
    "\n",
    "for a in agg:\n",
    "    t = []\n",
    "    for p in qs['un']:\n",
    "        t.append(chi2_contingency(pd.crosstab(df[a], df[df.columns[p]]))[1] < 0.05)\n",
    "    l[a] = t\n",
    "        \n",
    "for k in l.items():\n",
    "    print(k[1])\n",
    "    \n",
    "for k in qs['un']:\n",
    "    print(df.columns[k])"
   ]
  },
  {
   "cell_type": "code",
   "execution_count": 11,
   "metadata": {
    "collapsed": false
   },
   "outputs": [
    {
     "data": {
      "text/plain": [
       "<matplotlib.axes._subplots.AxesSubplot at 0x116f5a278>"
      ]
     },
     "execution_count": 11,
     "metadata": {},
     "output_type": "execute_result"
    },
    {
     "data": {
      "image/png": "[encoded data removed]",
      "text/plain": [
       "<matplotlib.figure.Figure at 0x116f61240>"
      ]
     },
     "metadata": {},
     "output_type": "display_data"
    }
   ],
   "source": [
    "#age corr sample graph\n",
    "#17.Do you participate in decision making at your home?\n",
    "\n",
    "\n",
    "\n",
    "ct = pd.crosstab(df['17.Do you participate in decision making at your home?'], df['location'])\n",
    "\n",
    "ct.plot(kind='bar', stacked=True, color=['red','blue','green'], grid=True)\n"
   ]
  }
 ],
 "metadata": {
  "anaconda-cloud": {},
  "kernelspec": {
   "display_name": "Python [conda root]",
   "language": "python",
   "name": "conda-root-py"
  },
  "language_info": {
   "codemirror_mode": {
    "name": "ipython",
    "version": 3
   },
   "file_extension": ".py",
   "mimetype": "text/x-python",
   "name": "python",
   "nbconvert_exporter": "python",
   "pygments_lexer": "ipython3",
   "version": "3.5.2"
  }
 },
 "nbformat": 4,
 "nbformat_minor": 1
}
