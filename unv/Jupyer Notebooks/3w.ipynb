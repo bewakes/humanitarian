{
 "cells": [
  {
   "cell_type": "code",
   "execution_count": 1,
   "metadata": {
    "collapsed": true
   },
   "outputs": [],
   "source": [
    "from pandas import DataFrame, read_csv\n",
    "\n",
    "import matplotlib.pyplot as plt\n",
    "import pandas as pd\n",
    "import sys\n",
    "import matplotlib \n",
    "import numpy as np\n",
    "import scipy.stats\n",
    "from pivottablejs import pivot_ui\n",
    "\n",
    "# Enable inline plotting\n",
    "%matplotlib inline"
   ]
  },
  {
   "cell_type": "code",
   "execution_count": 2,
   "metadata": {
    "collapsed": false
   },
   "outputs": [],
   "source": [
    "df = pd.read_excel('/Users/ewanog/Dropbox/Work/UNV/Analysis/3w/amp.xls', sheetname='data', header = 0, keep_default_na=False)"
   ]
  },
  {
   "cell_type": "code",
   "execution_count": 3,
   "metadata": {
    "collapsed": false,
    "scrolled": true
   },
   "outputs": [],
   "source": [
    "#make all empty distrct rows equal last one then remove row with summary district info\n",
    "\n",
    "cd = ''\n",
    "\n",
    "for r in df.iterrows():\n",
    "    if r[1]['District'] != '':\n",
    "        cd = r[1]['District'].split('(')[0].strip(' ')\n",
    "        df = df.drop(r[0])\n",
    "    else:\n",
    "        df.loc[r[0], 'District'] = cd\n",
    "\n",
    "\n",
    "# for r in df.iterrows():\n",
    "#     if r[1]['District'] != '':\n",
    "#         c.append()\n",
    "    "
   ]
  },
  {
   "cell_type": "code",
   "execution_count": 4,
   "metadata": {
    "collapsed": false
   },
   "outputs": [
    {
     "data": {
      "text/plain": [
       "Actual Expenditures\n",
       "620571.347    35\n",
       "930857.021    10\n",
       "Name: Actual Expenditures, dtype: int64"
      ]
     },
     "execution_count": 4,
     "metadata": {},
     "output_type": "execute_result"
    }
   ],
   "source": [
    "len(df['AMP ID'].unique()) #505\n",
    "len(df['AMP ID']) #3004\n",
    "\n",
    "r = df[df['AMP ID'] == '872381431698']['Actual Expenditures']\n",
    "\n",
    "r.groupby(r).count()"
   ]
  },
  {
   "cell_type": "code",
   "execution_count": 5,
   "metadata": {
    "collapsed": false,
    "scrolled": false
   },
   "outputs": [],
   "source": [
    "import itertools\n",
    "from numpy import array\n",
    "import re\n",
    "\n",
    "set(list(itertools.chain.from_iterable([v.replace('\\n','').split(' - ') for v in df['Primary Sector'].unique()])))\n",
    "\n",
    "infra = ['ALTERNATE ENERGY', 'COMMUNICATIONS', 'DRINKING WATER', 'ELECTRICITY', 'ENERGY', \n",
    "'HOUSING', 'INDUSTRY', 'IRRIGATION', 'LOCAL DEVELOPMENT', \n",
    "'PEACE AND RECONSTRUCTION', 'RENEWABLE ENERGY', 'SUPPLY', 'URBAN DEVELOPMENT']\n",
    "\n",
    "proj = [\"Rural Energy Development Programme:REDP\",\n",
    "\"PCR 6, IR 3 - Cluster leadership and equitable access and use of emergency WASH services in line with the CCCs & Sphere standards.\",\n",
    "\"PCR 6, IR 2: HHs and institutions especially in MDAG VDCs in DACAW, diarrhoea prone & low sanitation coverage districts increasingly utilise improved sanitation, hygiene and water supply facilities.\",\n",
    "\"Renewable Energy for Rural Livelihoods (RERL)\",\n",
    "\"Renewable Energy for Rural Livelihood(RERL)\",\n",
    "\"Capacity Building for Strategic Planning for Municipal Solid Waste Management including understanding of Climate Change and Clean Development Mechanism\",\n",
    "\"Improved Water Mills (IWM) Rural Electrification\",\n",
    "\"Strengthening Water, Sanitation and Hygiene Treasuring Health (SWASHTHA)- II- in Tikapur and Guleriaya, Nepal.\",\n",
    "\"Sustainable Urban Environment\",\n",
    "\"IR 5.2: WASH in Earthquake Emergency\",\n",
    "\"Strengthening Water, Air, Sanitation and Hygiene Treasuring Health (SWASHTHA) - I\",\n",
    "\"Nepal Holistic Development Program(NHDP)\",\n",
    "\"Nepal Holistic Development Program\",\n",
    "\"Water Guard - Safe Water System (SWS)\",\n",
    "\"Improved Municipal Solid Waste Management through Institutional Capacity Building of SWMRMC of Nepal - II\",\n",
    "\"Hydram-III\",\n",
    "\"National Recovery Project\",\n",
    "\"Disaster Risk Reduction at the National Level in Nepal - DRRNLN\",\n",
    "\"NPL Pooled Seed Fund - 2014 Floods/Landslide Response\",\n",
    "\"Climate and Carbon Funding in Renewable Energy Sector in Nepal\",\n",
    "\"I.R. 1.3: WASH Plan and Finance Strategy\",\n",
    "\"I.R.2.3 District Water and Sanitation System\",\n",
    "\"NPL SHO Emergency & Reconstruction Aid for Nepal SoF:52800150\",\n",
    "\"Community Water Supply Sanitation and Hygiene Support Project\",\n",
    "\"Sustainable Sanitataion and Hygiene for ALL- Civil Society Wash Fund- Funded by Australian Government\",\n",
    "\"Urban Sustainable Sanitation and Hygiene for All (USSH4A)\",\n",
    "\"(Improving) Functionality of Water Supply Services in Nepal\",\n",
    "\"Building Back Better for Inclusive and Resilient Recovery in Nepal after Earthquake 2015\",\n",
    "\"WASH Lifesaving Support Project- Preventing deaths of vulnerable population (children and women) through lifesaving WASH promotion and response (CERF Nepal Project)\",\n",
    "\"Community Health/ Education, Sanitation & Livelihood Development in Nepal\",\n",
    "\"Isolated Water Supply System for Urban Poor Communities in Kathmandu Valley\",\n",
    "\"Integrated Rural Development Project\",\n",
    "\"Integrating Water and Sanitation Services to Urban Poor Communities in two Municipalities of Nepal\",\n",
    "\"Renewable Energy for Rural Livelihoods (RERL) Phase II (Award ID 00076958 Project ID 00088046)\",\n",
    "\"Integrated Shelter Assistance for 225 Landless Households Affected by Koshi Flood\"]\n",
    "\n",
    "# len(df[df['Primary Sector'].str.contains('|'.join(infra))]['Project Title'].unique())\n",
    "\n",
    "# pd.DataFrame(df[df['Primary Sector'].str.contains('|'.join(infra))].groupby('Donor Agency').size().sort_values(ascending = False))\n",
    "\n",
    "trim = df[df['Project Title'].str.contains('|'.join([re.escape(v) for v in proj]))]\n",
    "                 \n",
    "# trim[trim['AMP ID'] == '8723889738']['Actual Expenditures'].unique().sum()\n",
    "\n",
    "# trim.groupby(by = )"
   ]
  },
  {
   "cell_type": "code",
   "execution_count": 6,
   "metadata": {
    "collapsed": false,
    "scrolled": false
   },
   "outputs": [
    {
     "data": {
      "text/plain": [
       "14717442.476"
      ]
     },
     "execution_count": 6,
     "metadata": {},
     "output_type": "execute_result"
    }
   ],
   "source": [
    "#sum of all projects\n",
    "#14,717,442.476\n",
    "m = trim.groupby(by=('AMP ID', 'Actual Expenditures'), as_index=False).all().index\n",
    "sum(m.levels[1])"
   ]
  }
 ],
 "metadata": {
  "anaconda-cloud": {},
  "kernelspec": {
   "display_name": "Python [conda root]",
   "language": "python",
   "name": "conda-root-py"
  },
  "language_info": {
   "codemirror_mode": {
    "name": "ipython",
    "version": 3
   },
   "file_extension": ".py",
   "mimetype": "text/x-python",
   "name": "python",
   "nbconvert_exporter": "python",
   "pygments_lexer": "ipython3",
   "version": "3.5.2"
  }
 },
 "nbformat": 4,
 "nbformat_minor": 1
}
