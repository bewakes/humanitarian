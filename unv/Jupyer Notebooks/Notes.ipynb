{
 "cells": [
  {
   "cell_type": "code",
   "execution_count": 2,
   "metadata": {
    "collapsed": true
   },
   "outputs": [],
   "source": [
    "# Import all libraries needed for the tutorial\n",
    "\n",
    "# General syntax to import specific functions in a library: \n",
    "##from (library) import (specific library function)\n",
    "from pandas import DataFrame, read_csv\n",
    "\n",
    "# General syntax to import a library but no functions: \n",
    "##import (library) as (give the library a nickname/alias)\n",
    "import matplotlib.pyplot as plt\n",
    "import pandas as pd #this is how I usually import pandas\n",
    "import sys #only needed to determine Python version number\n",
    "import matplotlib #only needed to determine Matplotlib version number\n",
    "import numpy as np\n",
    "\n",
    "# Enable inline plotting\n",
    "%matplotlib inline"
   ]
  },
  {
   "cell_type": "code",
   "execution_count": 48,
   "metadata": {
    "collapsed": false
   },
   "outputs": [],
   "source": [
    "#Assign value to cell based on values in antoher cell\n",
    "df = pd.DataFrame({'a':(1,2,3), 'b':(None)})\n",
    "\n",
    "#Set row 'b' equal to 100 where a == 1\n",
    "df.loc[df.a == 3,'bsafdsaf'] = 100\n"
   ]
  },
  {
   "cell_type": "code",
   "execution_count": 71,
   "metadata": {
    "collapsed": false
   },
   "outputs": [
    {
     "data": {
      "text/plain": [
       "Series([], dtype: float64)"
      ]
     },
     "execution_count": 71,
     "metadata": {},
     "output_type": "execute_result"
    }
   ],
   "source": [
    "#Simple bar graph\n",
    "\n",
    "objects = ('Python', 'C++', 'Java', 'Perl', 'Scala', 'Lisp')\n",
    "y_pos = np.arange(len(objects))\n",
    "performance = [10,8,6,4,2,1]\n",
    " \n",
    "plt.bar(y_pos, performance, align='center', alpha=0.5)\n",
    "plt.xticks(y_pos, objects)\n",
    "plt.ylabel('Usage')\n",
    "plt.title('Programming language usage')\n",
    " \n",
    "plt.show()\n",
    "\n",
    "#with a lot of x axis...\n",
    "plt.xticks(y_pos, objects, rotation=90)\n"
   ]
  },
  {
   "cell_type": "code",
   "execution_count": null,
   "metadata": {
    "collapsed": true
   },
   "outputs": [],
   "source": [
    "#Print out everything\n",
    "np.set_printoptions(threshold=np.inf)\n",
    "pd.options.display.max_seq_items = 2000"
   ]
  },
  {
   "cell_type": "code",
   "execution_count": null,
   "metadata": {
    "collapsed": true
   },
   "outputs": [],
   "source": [
    "#Take out strings from columns\n",
    "\n",
    "ed.columns = ed.columns.str.replace('\\xa0', '')"
   ]
  },
  {
   "cell_type": "code",
   "execution_count": 106,
   "metadata": {
    "collapsed": false,
    "scrolled": true
   },
   "outputs": [
    {
     "name": "stdout",
     "output_type": "stream",
     "text": [
      "is blank? True\n",
      "is None? False\n"
     ]
    },
    {
     "data": {
      "text/html": [
       "<div>\n",
       "<table border=\"1\" class=\"dataframe\">\n",
       "  <thead>\n",
       "    <tr style=\"text-align: right;\">\n",
       "      <th></th>\n",
       "      <th>0</th>\n",
       "    </tr>\n",
       "  </thead>\n",
       "  <tbody>\n",
       "    <tr>\n",
       "      <th>2</th>\n",
       "      <td>1.0</td>\n",
       "    </tr>\n",
       "  </tbody>\n",
       "</table>\n",
       "</div>"
      ],
      "text/plain": [
       "     0\n",
       "2  1.0"
      ]
     },
     "execution_count": 106,
     "metadata": {},
     "output_type": "execute_result"
    }
   ],
   "source": [
    "#Replace all blanks with NaN in a df\n",
    "\n",
    "blank = pd.DataFrame(['','',1])\n",
    "print('is blank? ' + str(blank.ix[0][0] == ''))\n",
    "\n",
    "blank = blank.applymap(lambda x: None if x == '' else x)\n",
    "print('is None? ' + str(blank.ix[0][0] == None))\n",
    "\n",
    "blank.ix[2:4]"
   ]
  },
  {
   "cell_type": "code",
   "execution_count": null,
   "metadata": {
    "collapsed": true
   },
   "outputs": [],
   "source": [
    "#Delete column\n",
    "del(df['col'], axis = 1)\n",
    "\n",
    "#...multiple:\n",
    "df = df.drop(df.columns[[1,2,3,4,5,6,7,8]], axis=1)\n",
    "\n",
    "\n",
    "#Delete row\n",
    "df.drop(index_val)\n",
    "\n",
    "#Delete row based on value from another row\n",
    "df.drop(df[df['id'] == row[1].values[0]].index)"
   ]
  },
  {
   "cell_type": "code",
   "execution_count": 124,
   "metadata": {
    "collapsed": false
   },
   "outputs": [
    {
     "data": {
      "text/html": [
       "<div>\n",
       "<table border=\"1\" class=\"dataframe\">\n",
       "  <thead>\n",
       "    <tr style=\"text-align: right;\">\n",
       "      <th></th>\n",
       "      <th>a</th>\n",
       "    </tr>\n",
       "    <tr>\n",
       "      <th>b</th>\n",
       "      <th></th>\n",
       "    </tr>\n",
       "  </thead>\n",
       "  <tbody>\n",
       "    <tr>\n",
       "      <th>val</th>\n",
       "      <td>1.0</td>\n",
       "    </tr>\n",
       "  </tbody>\n",
       "</table>\n",
       "</div>"
      ],
      "text/plain": [
       "       a\n",
       "b       \n",
       "val  1.0"
      ]
     },
     "execution_count": 124,
     "metadata": {},
     "output_type": "execute_result"
    }
   ],
   "source": [
    "#Ranking a df by groupby\n",
    "rank = pd.DataFrame({'a':(1,4,6,11,2,3), 'b': 'val'})\n",
    "\n",
    "rank.groupby('b').sum().rank(axis=1)\n",
    "\n",
    "#to rank a list from lowest to highest ranking (where 1 is 'highest' eg)\n",
    "an.groupby(['Location']).sum().T['Central'].rank(method='first', ascending=False).sort_values()"
   ]
  },
  {
   "cell_type": "code",
   "execution_count": 1,
   "metadata": {
    "collapsed": false
   },
   "outputs": [
    {
     "ename": "NameError",
     "evalue": "name 'data' is not defined",
     "output_type": "error",
     "traceback": [
      "\u001b[0;31m---------------------------------------------------------------------------\u001b[0m",
      "\u001b[0;31mNameError\u001b[0m                                 Traceback (most recent call last)",
      "\u001b[0;32m<ipython-input-1-435240a7e3d4>\u001b[0m in \u001b[0;36m<module>\u001b[0;34m()\u001b[0m\n\u001b[1;32m     18\u001b[0m \u001b[0;34m\u001b[0m\u001b[0m\n\u001b[1;32m     19\u001b[0m \u001b[0;31m# Perform groupby aggregation by \"month\", but only on the rows that are of type \"call\"\u001b[0m\u001b[0;34m\u001b[0m\u001b[0;34m\u001b[0m\u001b[0m\n\u001b[0;32m---> 20\u001b[0;31m \u001b[0mdata\u001b[0m\u001b[0;34m[\u001b[0m\u001b[0mdata\u001b[0m\u001b[0;34m[\u001b[0m\u001b[0;34m'item'\u001b[0m\u001b[0;34m]\u001b[0m \u001b[0;34m==\u001b[0m \u001b[0;34m'call'\u001b[0m\u001b[0;34m]\u001b[0m\u001b[0;34m.\u001b[0m\u001b[0mgroupby\u001b[0m\u001b[0;34m(\u001b[0m\u001b[0;34m'month'\u001b[0m\u001b[0;34m)\u001b[0m\u001b[0;34m\u001b[0m\u001b[0m\n\u001b[0m",
      "\u001b[0;31mNameError\u001b[0m: name 'data' is not defined"
     ]
    }
   ],
   "source": [
    "#Groupby with agg\n",
    "#http://www.shanelynn.ie/summarising-aggregation-and-grouping-data-in-python-pandas/\n",
    "\n",
    "# Define the aggregation calculations\n",
    "aggregations = {\n",
    "    'duration': { # work on the \"duration\" column\n",
    "        'total_duration': 'sum',  # get the sum, and call this result 'total_duration'\n",
    "        'average_duration': 'mean', # get mean, call result 'average_duration'\n",
    "        'num_calls': 'count'\n",
    "    },\n",
    "    'date': {     # Now work on the \"date\" column\n",
    "        'max_date': 'max',   # Find the max, call the result \"max_date\"\n",
    "        'min_date': 'min',\n",
    "        'num_days': lambda x: max(x) - min(x)  # Calculate the date range per group\n",
    "    },\n",
    "    'network': [\"count\", \"max\"]  # Calculate two results for the 'network' column with a list\n",
    "}\n",
    " \n",
    "# Perform groupby aggregation by \"month\", but only on the rows that are of type \"call\"\n",
    "data[data['item'] == 'call'].groupby('month').agg(aggregations)"
   ]
  },
  {
   "cell_type": "code",
   "execution_count": null,
   "metadata": {
    "collapsed": true
   },
   "outputs": [],
   "source": [
    "#Rename column\n",
    "\n",
    "df = df.rename(columns = {'from' : 'to'})"
   ]
  },
  {
   "cell_type": "code",
   "execution_count": 5,
   "metadata": {
    "collapsed": false
   },
   "outputs": [],
   "source": [
    "#Pearson calculation\n",
    "\n",
    "df=pd.DataFrame( {'one':[0.1, .32, .2, 0.4, 0.8], 'two':[.23, .18, .56, .61, .12], 'three':[.9, .3, .6, .5, .3], 'four':[.34, .75, .91, .19, .21], 'zive': [0.1, .32, .2, 0.4, 0.8], 'six':[.9, .3, .6, .5, .3], 'drive':[.9, .3, .6, .5, .3]})\n",
    "\n",
    "df.corr(method = 'pearson')\n",
    "\n",
    "df.where?"
   ]
  },
  {
   "cell_type": "code",
   "execution_count": null,
   "metadata": {
    "collapsed": true
   },
   "outputs": [],
   "source": [
    "#chi squared test\n",
    "\n",
    "import pandas as pd\n",
    "from scipy.stats import chi2_contingency\n",
    "import scipy.stats as ss\n",
    "# Returns\n",
    "# -------\n",
    "# chi2 : float\n",
    "#     The test statistic.\n",
    "# p : float\n",
    "#     The p-value of the test\n",
    "# dof : int\n",
    "#     Degrees of freedom\n",
    "# expected : ndarray, same shape as `observed`\n",
    "#     The expected frequencies, based on the marginal sums of the table.\n",
    "\n",
    "test_df = pd.DataFrame(columns=['sex', 'paint']) \n",
    "\n",
    "vals = []\n",
    "\n",
    "for i in range(180): \n",
    "    vals.append({'sex': 'men', 'paint': 'wp'})\n",
    "\n",
    "for i in range(320): \n",
    "    vals.append({'sex': 'men', 'paint': 'nw'})\n",
    "\n",
    "for i in range(125): \n",
    "    vals.append({'sex': 'women', 'paint': 'wp'})\n",
    "\n",
    "for i in range(375): \n",
    "    vals.append({'sex': 'women', 'paint': 'nw'})\n",
    "\n",
    "    \n",
    "v = pd.DataFrame(vals, index = [v for v in range(1000)])\n",
    "\n",
    "chi2_contingency(pd.crosstab(v.sex, v.paint))[1]"
   ]
  }
 ],
 "metadata": {
  "anaconda-cloud": {},
  "kernelspec": {
   "display_name": "Python [conda root]",
   "language": "python",
   "name": "conda-root-py"
  },
  "language_info": {
   "codemirror_mode": {
    "name": "ipython",
    "version": 3
   },
   "file_extension": ".py",
   "mimetype": "text/x-python",
   "name": "python",
   "nbconvert_exporter": "python",
   "pygments_lexer": "ipython3",
   "version": "3.5.2"
  }
 },
 "nbformat": 4,
 "nbformat_minor": 1
}
